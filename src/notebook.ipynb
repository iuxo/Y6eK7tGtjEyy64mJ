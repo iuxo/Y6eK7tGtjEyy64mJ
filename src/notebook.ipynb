{
 "cells": [
  {
   "cell_type": "markdown",
   "metadata": {},
   "source": [
    "### Goals\n"
   ]
  },
  {
   "cell_type": "markdown",
   "metadata": {},
   "source": [
    "Predict if a customer is happy or not based on the answers they give to questions asked"
   ]
  },
  {
   "cell_type": "markdown",
   "metadata": {},
   "source": [
    "### Metrics"
   ]
  },
  {
   "cell_type": "markdown",
   "metadata": {},
   "source": [
    "Reach 73% accuracy score or above, or convice us why your solution is superior."
   ]
  },
  {
   "cell_type": "markdown",
   "metadata": {},
   "source": [
    "### Bonus"
   ]
  },
  {
   "cell_type": "markdown",
   "metadata": {},
   "source": [
    "Which features are more important when predicting a customer's happiness, use feature selection approach to show what is the minimal set of attributes that preserve the most information about the problem. Are there any questions we can remove in our next survey.\n"
   ]
  },
  {
   "cell_type": "markdown",
   "metadata": {},
   "source": [
    "### Predictions and Initial Thoughts\n"
   ]
  },
  {
   "cell_type": "markdown",
   "metadata": {},
   "source": [
    "I think the most important features would be the time, price paid, and if the contents are missing items. Most likely people don't care about the courier, app, and being able to order everything they wanted, unless the courier or app is very bad. \n",
    "\n",
    "Time is probably important to the customers as they are ordering delivery, they either don't have time to pick it up themselves or they simply don't want to pick it up themselves. \n",
    "\n",
    "Personally, if my order is wrong I would be unhappy and reach support, didn't get what I wanted for the price. Ties into being satified with the price paid.\n",
    "\n",
    "Also the data may be skewed, getting feedback from customers is difficult, most likely the customers that do give feedback are extremely happy or disatisfied with the service. \n",
    "\n",
    "Data set is quite small only 127 responses in the subset."
   ]
  },
  {
   "cell_type": "code",
   "execution_count": 1,
   "metadata": {},
   "outputs": [],
   "source": [
    "import pandas as pd"
   ]
  },
  {
   "cell_type": "code",
   "execution_count": null,
   "metadata": {},
   "outputs": [],
   "source": [
    "customer = pd.read_csv(\"../data/Acme\")"
   ]
  }
 ],
 "metadata": {
  "kernelspec": {
   "display_name": "THE_ONE",
   "language": "python",
   "name": "python3"
  },
  "language_info": {
   "codemirror_mode": {
    "name": "ipython",
    "version": 3
   },
   "file_extension": ".py",
   "mimetype": "text/x-python",
   "name": "python",
   "nbconvert_exporter": "python",
   "pygments_lexer": "ipython3",
   "version": "3.8.13"
  },
  "orig_nbformat": 4
 },
 "nbformat": 4,
 "nbformat_minor": 2
}
